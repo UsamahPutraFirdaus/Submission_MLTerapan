{
  "nbformat": 4,
  "nbformat_minor": 0,
  "metadata": {
    "colab": {
      "provenance": [],
      "authorship_tag": "ABX9TyPw9zleu7KgmmUPMGsFuWqZ",
      "include_colab_link": true
    },
    "kernelspec": {
      "name": "python3",
      "display_name": "Python 3"
    },
    "language_info": {
      "name": "python"
    }
  },
  "cells": [
    {
      "cell_type": "markdown",
      "metadata": {
        "id": "view-in-github",
        "colab_type": "text"
      },
    },
    {
      "cell_type": "code",
      "execution_count": null,
      "metadata": {
        "id": "19xoC-zzt-k8"
      },
      "outputs": [],
      "source": []
    }
  ]
}
